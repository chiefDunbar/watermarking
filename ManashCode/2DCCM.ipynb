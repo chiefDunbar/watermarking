{
 "cells": [
  {
   "cell_type": "code",
   "execution_count": 9,
   "id": "5c6d6a88-4016-4ecf-9b74-5f4ddeab2565",
   "metadata": {},
   "outputs": [],
   "source": [
    "import numpy as np\n",
    "import matplotlib.pyplot as plt\n",
    "import cv2\n",
    "import os"
   ]
  },
  {
   "cell_type": "markdown",
   "id": "15cd727c-c541-4058-af0b-aa1ad939e7fd",
   "metadata": {},
   "source": [
    "## Chaotic Map Function\n",
    "A chaotic map generates pseudo-random sequences that are highly sensitive to initial conditions. The 2D CCM uses complex numbers to create more complex and secure sequences."
   ]
  },
  {
   "cell_type": "code",
   "execution_count": 15,
   "id": "522b13dd-caea-4887-9dbb-381b5d6ccd10",
   "metadata": {},
   "outputs": [
    {
     "data": {
      "text/plain": [
       "(3.0, 6.0)"
      ]
     },
     "execution_count": 15,
     "metadata": {},
     "output_type": "execute_result"
    }
   ],
   "source": [
    "l = 3 + 6j\n",
    "l.real, l.imag\n",
    "le = 0.1*np.sin"
   ]
  },
  {
   "cell_type": "code",
   "execution_count": 35,
   "id": "2eefe48d-cca2-4b2a-8341-d9e1dc0fd876",
   "metadata": {},
   "outputs": [],
   "source": [
    "def CCM(x, y, a, b): # x, y -> initial conditions & a, b -> parameters\n",
    "    z = x + 1j*y\n",
    "    print(z.real, z.imag)\n",
    "    z_new = a * np.sin(z.real) + b * np.cos(z.imag)\n",
    "    return z_new.real, z_new.imag\n",
    "\n",
    "def genSeq(len, init_x, init_y, a, b):\n",
    "    seq = []\n",
    "    x, y = init_x, init_y\n",
    "    for _ in range(len):\n",
    "        x, y = CCM(x, y, a, b)\n",
    "        seq.append((x, y))\n",
    "    return np.array(seq)\n"
   ]
  },
  {
   "cell_type": "code",
   "execution_count": 36,
   "id": "df6503a4-1acc-4b48-8368-978651d578ab",
   "metadata": {},
   "outputs": [
    {
     "name": "stdout",
     "output_type": "stream",
     "text": [
      "2.0 10.0\n"
     ]
    },
    {
     "data": {
      "text/plain": [
       "(0.09092974268256818, 0.0)"
      ]
     },
     "execution_count": 36,
     "metadata": {},
     "output_type": "execute_result"
    }
   ],
   "source": [
    "CCM(2, 10, 0.1, 0)"
   ]
  },
  {
   "cell_type": "markdown",
   "id": "c12e5849-799a-4a01-96a7-90e17ef5d97e",
   "metadata": {},
   "source": [
    "## Watermark Embedding Process\n",
    "Frame Selection: Select frames from the video for watermarking.<br>\n",
    "Transformation: Apply a transformation (e.g., DWT, SVD) to convert the frame into a domain where watermarking is more robust. <br>\n",
    "Chaotic Sequence Generation: Generate a chaotic sequence using the 2D CCM with specific initial conditions and parameters.<br>\n",
    "Watermark Embedding: Embed the watermark bits into the transformed coefficients using the chaotic sequence.<br>\n",
    "Inverse Transformation: Apply the inverse transformation to get the watermarked frame.<br>"
   ]
  },
  {
   "cell_type": "code",
   "execution_count": 29,
   "id": "ce7be029-4c38-489d-856d-96f68a088da0",
   "metadata": {},
   "outputs": [],
   "source": [
    "def embed_watermark(frame, watermark, chaotic_sequence):\n",
    "    # Apply SVD\n",
    "    U, S, Vt = np.linalg.svd(frame, full_matrices=False)\n",
    "    # Embed watermark using chaotic sequence\n",
    "    for i, (x, y) in enumerate(chaotic_sequence):\n",
    "        S[i] += watermark[i % len(watermark)] * (x + y)\n",
    "    # Reconstruct frame\n",
    "    watermarked_frame = np.dot(U, np.dot(np.diag(S), Vt))\n",
    "    return watermarked_frame\n"
   ]
  },
  {
   "cell_type": "markdown",
   "id": "31d8ba57-5b67-4a13-adde-d524abd55f5a",
   "metadata": {},
   "source": [
    "## Watermark Extraction Process\n",
    "Frame Selection: Select the watermarked frames from the video.<br>\n",
    "Transformation: Apply the same transformation as in the embedding process.<br>\n",
    "Chaotic Sequence Generation: Generate the same chaotic sequence using the same initial conditions and parameters.<br>\n",
    "Watermark Extraction: Extract the watermark bits from the transformed coefficients using the chaotic sequence.<br>"
   ]
  },
  {
   "cell_type": "code",
   "execution_count": 30,
   "id": "6a806f82-fdc9-4368-bf1d-36f9d19882f6",
   "metadata": {},
   "outputs": [],
   "source": [
    "def extract_watermark(frame, chaotic_sequence, watermark_length):\n",
    "    # Apply SVD\n",
    "    U, S, Vt = np.linalg.svd(frame, full_matrices=False)\n",
    "    # Extract watermark using chaotic sequence\n",
    "    watermark = []\n",
    "    for i, (x, y) in enumerate(chaotic_sequence):\n",
    "        if i < watermark_length:\n",
    "            watermark.append(S[i] / (x + y))\n",
    "    return np.array(watermark)\n"
   ]
  },
  {
   "cell_type": "markdown",
   "id": "f2c34247-a500-42a2-af9c-9cc8870b4393",
   "metadata": {},
   "source": [
    "## Practical Implementation\n",
    "To put it all together, let's implement the complete watermarking process for a 5-second video with dimensions 128x128.\n",
    "\n",
    "Video Processing\n",
    "Load Video: Use OpenCV to read the video frames.<br>\n",
    "Embed Watermark: Apply the embedding algorithm to each frame.<br>\n",
    "Save Watermarked Video: Write the watermarked frames back to a video file.<br>\n",
    "Extract Watermark: Verify the extraction process.<br>"
   ]
  },
  {
   "cell_type": "code",
   "execution_count": 32,
   "id": "65cae806-1f33-4a64-9721-ce2cfcd659d0",
   "metadata": {},
   "outputs": [
    {
     "name": "stdout",
     "output_type": "stream",
     "text": [
      "Extracted Watermark: [2.00465737e+04 1.95272604e+03 1.41971814e+03 7.98581053e+02\n",
      " 5.50296557e+02 5.14870955e+02 4.52904893e+02 4.33094847e+02\n",
      " 3.80468644e+02 3.54931900e+02 3.26092269e+02 3.09733324e+02\n",
      " 2.99752546e+02 2.86743552e+02 2.78671982e+02 2.64131669e+02\n",
      " 2.48760727e+02 2.44053028e+02 2.37193369e+02 2.31070234e+02\n",
      " 2.25692708e+02 2.21486314e+02 2.20981595e+02 2.13708360e+02\n",
      " 1.98864718e+02 1.95706430e+02 1.93406824e+02 1.91936335e+02\n",
      " 1.85042539e+02 1.83574424e+02 1.77791890e+02 1.75516947e+02\n",
      " 1.74282049e+02 1.71028020e+02 1.62710553e+02 1.61824404e+02\n",
      " 1.59741663e+02 1.56728186e+02 1.54728160e+02 1.51490386e+02\n",
      " 1.47986486e+02 1.47640140e+02 1.43731415e+02 1.41144774e+02\n",
      " 1.40838634e+02 1.38062738e+02 1.37728843e+02 1.34784327e+02\n",
      " 1.29825895e+02 1.28758404e+02 1.26542771e+02 1.23419586e+02\n",
      " 1.20684576e+02 1.19239728e+02 1.17740261e+02 1.16262677e+02\n",
      " 1.11658931e+02 1.09003593e+02 1.05614259e+02 1.03356855e+02\n",
      " 1.02459368e+02 1.00437860e+02 9.94445814e+01 9.64503138e+01\n",
      " 9.51094250e+01 9.30573550e+01 9.16600951e+01 8.80126834e+01\n",
      " 8.61575017e+01 8.52473356e+01 8.31825290e+01 8.01549222e+01\n",
      " 7.93817450e+01 7.70639655e+01 7.58573992e+01 7.33895127e+01\n",
      " 7.29246276e+01 7.02695534e+01 6.84616465e+01 6.77056195e+01\n",
      " 6.53919952e+01 6.33355526e+01 6.29123427e+01 6.26574751e+01\n",
      " 6.00703201e+01 5.80333325e+01 5.66340177e+01 5.53495092e+01\n",
      " 5.40904775e+01 5.31798475e+01 5.07377500e+01 4.76419513e+01\n",
      " 4.57928901e+01 4.57571596e+01 4.46730030e+01 4.42325463e+01\n",
      " 4.14708859e+01 4.09219814e+01 3.97184596e+01 3.91105874e+01\n",
      " 3.74593810e+01 3.66792029e+01 3.35602387e+01 3.18458529e+01\n",
      " 3.06696212e+01 2.95491932e+01 2.76243050e+01 2.66925903e+01\n",
      " 2.62947135e+01 2.50098281e+01 2.38838365e+01 2.25338413e+01\n",
      " 2.16027974e+01 1.97424458e+01 1.89335716e+01 1.71659858e+01\n",
      " 1.58542504e+01 1.45683810e+01 1.40687340e+01 1.25275973e+01\n",
      " 1.01403390e+01 8.37010052e+00 7.34676768e+00 6.27251011e+00\n",
      " 4.07268061e+00 2.73743166e+00 1.21573095e+00 1.40420228e-01]\n"
     ]
    },
    {
     "data": {
      "text/plain": [
       "(128,)"
      ]
     },
     "execution_count": 32,
     "metadata": {},
     "output_type": "execute_result"
    }
   ],
   "source": [
    "import cv2\n",
    "import numpy as np\n",
    "\n",
    "# Load video\n",
    "video_path = 'video.3gp'\n",
    "cap = cv2.VideoCapture(video_path)\n",
    "\n",
    "# Create video writer for output\n",
    "fourcc = cv2.VideoWriter_fourcc(*'mp4v')\n",
    "out = cv2.VideoWriter('output_video.mp4', fourcc, 20.0, (128, 128), isColor=False)\n",
    "\n",
    "# Generate chaotic sequence\n",
    "chaotic_sequence = genSeq(128, 0.1, 0.1, 1.0, 0.5)\n",
    "\n",
    "# Define watermark (simple binary pattern for demonstration)\n",
    "watermark = np.random.choice([0, 1], size=(128,))\n",
    "\n",
    "# Process each frame\n",
    "frame_count = 0\n",
    "while cap.isOpened() and frame_count < 100:  # Assuming 20 fps, 100 frames for 5 seconds\n",
    "    ret, frame = cap.read()\n",
    "    if not ret:\n",
    "        break\n",
    "\n",
    "    # Convert to grayscale and resize to 128x128\n",
    "    frame = cv2.cvtColor(frame, cv2.COLOR_BGR2GRAY)\n",
    "    frame = cv2.resize(frame, (128, 128))\n",
    "\n",
    "    # Embed watermark in frame\n",
    "    watermarked_frame = embed_watermark(frame, watermark, chaotic_sequence)\n",
    "\n",
    "    # Write watermarked frame to output video\n",
    "    out.write(watermarked_frame.astype(np.uint8))\n",
    "\n",
    "    frame_count += 1\n",
    "\n",
    "cap.release()\n",
    "out.release()\n",
    "cv2.destroyAllWindows()\n",
    "\n",
    "# For extraction, let's assume we process the saved watermarked video\n",
    "cap = cv2.VideoCapture('output_video.mp4')\n",
    "\n",
    "# Extract watermark from first frame for demonstration\n",
    "ret, frame = cap.read()\n",
    "if ret:\n",
    "    # Convert to grayscale and resize to 128x128\n",
    "    frame = cv2.cvtColor(frame, cv2.COLOR_BGR2GRAY)\n",
    "    frame = cv2.resize(frame, (128, 128))\n",
    "\n",
    "    # Extract watermark\n",
    "    extracted_watermark = extract_watermark(frame, chaotic_sequence, len(watermark))\n",
    "    print(\"Extracted Watermark:\", extracted_watermark)\n",
    "\n",
    "cap.release()\n",
    "cv2.destroyAllWindows()\n",
    "\n",
    "extracted_watermark.shape"
   ]
  },
  {
   "cell_type": "code",
   "execution_count": null,
   "id": "091b0778-a2a2-4b7e-a181-4553ced33262",
   "metadata": {},
   "outputs": [],
   "source": []
  }
 ],
 "metadata": {
  "kernelspec": {
   "display_name": "Python 3 (ipykernel)",
   "language": "python",
   "name": "python3"
  },
  "language_info": {
   "codemirror_mode": {
    "name": "ipython",
    "version": 3
   },
   "file_extension": ".py",
   "mimetype": "text/x-python",
   "name": "python",
   "nbconvert_exporter": "python",
   "pygments_lexer": "ipython3",
   "version": "3.10.12"
  }
 },
 "nbformat": 4,
 "nbformat_minor": 5
}
